{
  "cells": [
    {
      "cell_type": "markdown",
      "metadata": {
        "id": "PhpgbWHJhJOW"
      },
      "source": [
        "# Guessing Game Project Description"
      ]
    },
    {
      "cell_type": "markdown",
      "metadata": {
        "id": "9XJyp9xehPBl"
      },
      "source": [
        "* **`First: You ask the user to set the game level:`**\n",
        "  * *(1) Easy*:\n",
        "    * Limits : [1 - 10]  \n",
        "    * No. of trials : 3\n",
        "  * *(2) Intermediate*:\n",
        "    * Limits : [1 - 100]\n",
        "    * No. of trials : 7\n",
        "  * *(3) Hard* :  \n",
        "    * Limits : [1 - 1000]\n",
        "    * No. of trials : 15\n",
        "\n",
        "* **`Second: set the game settings according to the game level:`**\n",
        "  * set the `guess` to a number within the limits using `random` module\n",
        "  * set the number of trials: `n_trials`\n",
        "\n",
        "* **`Finally: Play the game:`**\n",
        "  * Ask the user to guess the number:\n",
        "    * If he guessed it successfully : `print('Congratulations, you achieved it in {user_trials} trial') `\n",
        "    * if he failed:\n",
        "      * user_trials < n_trials: till him (Increase) or (Decrease)\n",
        "      * user_trials = n_trials: `print('You Lose!')`"
      ]
    },
    {
      "cell_type": "markdown",
      "metadata": {
        "id": "m2nflmTioFy_"
      },
      "source": [
        "# Solution"
      ]
    },
    {
      "cell_type": "markdown",
      "metadata": {
        "id": "GsE-z7Son-xm"
      },
      "source": [
        "## Show the game levels"
      ]
    },
    {
      "cell_type": "code",
      "execution_count": null,
      "metadata": {
        "id": "YueCJNtPnndY"
      },
      "outputs": [],
      "source": [
        "def show_levels():\n",
        "  print(''' Game Levels :\n",
        "  (1) Easy:\n",
        "      * Limits : [1 - 10]\n",
        "      * No. of trials : 3\n",
        "  (2) Intermediate*:\n",
        "      * Limits : [1 - 100]\n",
        "      * No. of trials : 7\n",
        "  (3) Hard :\n",
        "      * Limits : [1 - 1000]\n",
        "      * No. of trials : 15 ''')"
      ]
    },
    {
      "cell_type": "markdown",
      "metadata": {
        "id": "ZaIwkooboJ5p"
      },
      "source": [
        "## Ask the user for the game level"
      ]
    },
    {
      "cell_type": "code",
      "execution_count": null,
      "metadata": {
        "id": "we7UkC6AhFwy"
      },
      "outputs": [],
      "source": [
        "def game_level_choice():\n",
        "  while True:\n",
        "      game_level = input('Enter the game level :\\n (1) Easy \\t (2) Intermediate \\t (3) Hard \\t')\n",
        "      if game_level in ['1','2','3']:\n",
        "          game_level = int(game_level)\n",
        "          break\n",
        "      else:\n",
        "          print('Invalid Choice! Please choose 1, 2, or 3')\n",
        "          continue\n",
        "  return game_level"
      ]
    },
    {
      "cell_type": "markdown",
      "metadata": {
        "id": "OjfyXPCeoQM4"
      },
      "source": [
        "## Set the game settings according to the game level:\n"
      ]
    },
    {
      "cell_type": "code",
      "execution_count": null,
      "metadata": {
        "id": "NTxJ1qsJmhoG"
      },
      "outputs": [],
      "source": [
        "def set_game_settings(game_level):\n",
        "  if game_level == 1:\n",
        "    limits = range(1,11)\n",
        "    n_trials = 3\n",
        "  elif game_level == 2:\n",
        "    limits = range(1,101)\n",
        "    n_trials = 7\n",
        "  else:\n",
        "    limits = range(1,1001)\n",
        "    n_trials = 15\n",
        "  return limits, n_trials"
      ]
    },
    {
      "cell_type": "markdown",
      "metadata": {
        "id": "97c-Ofv1o522"
      },
      "source": [
        "## Start Playing"
      ]
    },
    {
      "cell_type": "code",
      "execution_count": null,
      "metadata": {
        "id": "wz6TkIcTo1Jl"
      },
      "outputs": [],
      "source": [
        "import random\n",
        "\n",
        "def start_play(limits, n_trials):\n",
        "  hidden = random.choice(limits)\n",
        "  user_trials = 0\n",
        "\n",
        "  while user_trials < n_trials:\n",
        "    guess = int(input('Guess the number :   '))\n",
        "    user_trials +=1\n",
        "\n",
        "    if guess == hidden:\n",
        "      print(f'You got it successfully in {user_trials} trials')\n",
        "      break\n",
        "    else:\n",
        "      if user_trials == n_trials:\n",
        "        print(f\"Unfortunately, You tried {user_trials} trials. No more Trials!\")\n",
        "        print(f'The hidden number is  {hidden}')\n",
        "      elif guess < hidden:\n",
        "        print('No, Increase!')\n",
        "      else:\n",
        "        print('No, Decrease!')\n",
        "    continue\n"
      ]
    },
    {
      "cell_type": "markdown",
      "metadata": {
        "id": "sMjtRIQaqWvr"
      },
      "source": [
        "# Play Again ?"
      ]
    },
    {
      "cell_type": "code",
      "execution_count": null,
      "metadata": {
        "id": "CytyxDOeqaBe"
      },
      "outputs": [],
      "source": [
        "def play_again():\n",
        "    while True:\n",
        "      play_again = input(\"Play again ? [0] No, [1] Yes:   \")\n",
        "      if play_again in ['1','0']:\n",
        "          break\n",
        "      else:\n",
        "          print('Invalid Choice! Please choose 0 or 1   ')\n",
        "    return int(play_again)"
      ]
    },
    {
      "cell_type": "markdown",
      "metadata": {
        "id": "uI9u-XGV2S7P"
      },
      "source": [
        "## Let's Play"
      ]
    },
    {
      "cell_type": "code",
      "execution_count": null,
      "metadata": {
        "id": "4nIAPOhSpksM"
      },
      "outputs": [],
      "source": [
        "def play():\n",
        "  show_levels()\n",
        "  while True:\n",
        "    game_level = game_level_choice()\n",
        "    limits, n_trials = set_game_settings(game_level)\n",
        "    start_play(limits, n_trials)\n",
        "    if not play_again():\n",
        "        break\n"
      ]
    },
    {
      "cell_type": "code",
      "execution_count": null,
      "metadata": {
        "colab": {
          "base_uri": "https://localhost:8080/"
        },
        "id": "7m9ENdZp1Ffg",
        "outputId": "271e223e-44a3-4c25-e1f7-552d9132fcf6"
      },
      "outputs": [],
      "source": [
        "play()"
      ]
    },
    {
      "cell_type": "code",
      "execution_count": null,
      "metadata": {
        "colab": {
          "base_uri": "https://localhost:8080/"
        },
        "id": "qEzItQsHmFz5",
        "outputId": "c8786c79-0935-4a8d-e999-b53a4e85f55e"
      },
      "outputs": [
        {
          "data": {
            "text/plain": [
              "0"
            ]
          },
          "execution_count": 6,
          "metadata": {},
          "output_type": "execute_result"
        }
      ],
      "source": [
        "play_again()"
      ]
    }
  ],
  "metadata": {
    "colab": {
      "provenance": []
    },
    "kernelspec": {
      "display_name": "Python 3",
      "name": "python3"
    },
    "language_info": {
      "codemirror_mode": {
        "name": "ipython",
        "version": 3
      },
      "file_extension": ".py",
      "mimetype": "text/x-python",
      "name": "python",
      "nbconvert_exporter": "python",
      "pygments_lexer": "ipython3",
      "version": "3.13.2"
    }
  },
  "nbformat": 4,
  "nbformat_minor": 0
}
